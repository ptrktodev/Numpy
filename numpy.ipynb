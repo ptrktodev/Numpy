{
 "cells": [
  {
   "cell_type": "markdown",
   "id": "5d280ce0-e241-4ae0-9b72-be462db472ce",
   "metadata": {},
   "source": [
    "<div style=\"text-align:center\">\n",
    "    <h1>Numpy. 📈</h1>\n",
    "</div>"
   ]
  },
  {
   "cell_type": "markdown",
   "id": "c936442e-8ed2-4de0-85e1-2648b0b0df86",
   "metadata": {},
   "source": [
    "<div style=\"text-align:center\">\n",
    "    <img src=\"Datas/numpy.png\" width=\"500rem\" />\n",
    "</di>"
   ]
  },
  {
   "cell_type": "markdown",
   "id": "b44f8902-c2df-45cf-b64e-20ae26901bac",
   "metadata": {},
   "source": [
    "### 🈳 Numpy é usado para computação numérica e manipulação de arrays multidimensionais."
   ]
  },
  {
   "cell_type": "code",
   "execution_count": 1,
   "id": "5a57d4d6-b67c-4fcf-9e1d-0d42fbb92fa1",
   "metadata": {},
   "outputs": [],
   "source": [
    "# !pip install numpy"
   ]
  },
  {
   "cell_type": "code",
   "execution_count": 2,
   "id": "607f4844-c6fe-40c8-8dbf-834a7aff3f78",
   "metadata": {},
   "outputs": [],
   "source": [
    "import numpy as np # DOC: https://numpy.org/doc/stable/user/absolute_beginners.html"
   ]
  },
  {
   "cell_type": "code",
   "execution_count": 3,
   "id": "1509b697-8765-4e28-8eaf-524c6d1a7dbb",
   "metadata": {},
   "outputs": [
    {
     "data": {
      "text/plain": [
       "array([[1, 5],\n",
       "       [4, 7],\n",
       "       [7, 2]])"
      ]
     },
     "execution_count": 3,
     "metadata": {},
     "output_type": "execute_result"
    }
   ],
   "source": [
    "# Array sao formados por linhas e colunas, logo array de (3, 2): \n",
    "\n",
    "np.array([[1,5], [4,7], [7,2]])"
   ]
  },
  {
   "cell_type": "code",
   "execution_count": 4,
   "id": "16476b77-3668-430a-b849-29a507608e2d",
   "metadata": {},
   "outputs": [
    {
     "data": {
      "text/plain": [
       "array([1, 5, 6])"
      ]
     },
     "execution_count": 4,
     "metadata": {},
     "output_type": "execute_result"
    }
   ],
   "source": [
    "# Array de 1D\n",
    "\n",
    "np.array([1,5,6])"
   ]
  },
  {
   "cell_type": "code",
   "execution_count": 5,
   "id": "1a096fac-2eb6-4571-918d-a6587b3d30ae",
   "metadata": {},
   "outputs": [
    {
     "data": {
      "text/plain": [
       "array([[1, 5, 6],\n",
       "       [5, 8, 2]])"
      ]
     },
     "execution_count": 5,
     "metadata": {},
     "output_type": "execute_result"
    }
   ],
   "source": [
    "# Array de 2D\n",
    "\n",
    "np.array([[1,5,6], [5,8,2]])"
   ]
  },
  {
   "cell_type": "markdown",
   "id": "46a03867-0f98-4ed0-91f3-3593f86e79ba",
   "metadata": {},
   "source": [
    "#### 💎 Encontrar valores mínimos, máximos e medianos em um array:"
   ]
  },
  {
   "cell_type": "code",
   "execution_count": 172,
   "id": "122ef20d-0e83-48fd-a379-045ffc52975b",
   "metadata": {},
   "outputs": [
    {
     "name": "stdout",
     "output_type": "stream",
     "text": [
      "Valor minimo: 10\n",
      "Valor máximo: 77\n",
      "Valor médio: 36\n"
     ]
    }
   ],
   "source": [
    "array = np.random.randint(8, 80, size=[3,3])\n",
    "\n",
    "print(f\"Valor minimo: {array.min()}\")\n",
    "print(f\"Valor máximo: {array.max()}\")\n",
    "print(f\"Valor médio: {array.mean():.0f}\")"
   ]
  },
  {
   "cell_type": "markdown",
   "id": "3b13775d-fae6-41b3-ac2c-d38b0395a0eb",
   "metadata": {},
   "source": [
    "#### 💎 Podemos fazer operações de matrizes, o que com listas não seria possivel:"
   ]
  },
  {
   "cell_type": "code",
   "execution_count": 6,
   "id": "dcd58916-ac77-4b3e-85a0-f90bad25cb64",
   "metadata": {},
   "outputs": [
    {
     "data": {
      "text/plain": [
       "array([6, 5])"
      ]
     },
     "execution_count": 6,
     "metadata": {},
     "output_type": "execute_result"
    }
   ],
   "source": [
    "a = np.array([1,3])\n",
    "b = np.array([5,2])\n",
    "\n",
    "a+b"
   ]
  },
  {
   "cell_type": "code",
   "execution_count": 7,
   "id": "3145dad8-98a8-41fa-9d09-ab963e79e4a8",
   "metadata": {},
   "outputs": [
    {
     "data": {
      "text/plain": [
       "array([[ 7,  7],\n",
       "       [10,  8]], dtype=int64)"
      ]
     },
     "execution_count": 7,
     "metadata": {},
     "output_type": "execute_result"
    }
   ],
   "source": [
    "a = np.array([[2,5], [5,6]], dtype=np.int64)\n",
    "b = np.array([5,2])\n",
    "\n",
    "a+b"
   ]
  },
  {
   "cell_type": "markdown",
   "id": "522122bd-fc59-4a79-bcdb-50813b970426",
   "metadata": {},
   "source": [
    "#### 💎 Dimensões (Propriedades):"
   ]
  },
  {
   "cell_type": "code",
   "execution_count": 8,
   "id": "47b8a2c6-46f6-4ae4-b113-0632d03c4980",
   "metadata": {},
   "outputs": [
    {
     "name": "stdout",
     "output_type": "stream",
     "text": [
      "Numero de dimensões: 2\n",
      "Numero de elementos em c/ dim: (2, 2)\n",
      "Tipo de dado: int64\n",
      "Tamanho de cada dado: 8\n",
      "Tamanho total dos dados: 32\n"
     ]
    }
   ],
   "source": [
    "print(f\"Numero de dimensões: {a.ndim}\") # usada para determinar o número de dimensões (eixos) de um array.\n",
    "print(f\"Numero de elementos em c/ dim: {a.shape}\") # descreve o número de elementos em cada dimensão do array.\n",
    "print(f\"Tipo de dado: {a.dtype}\") # Usada para mostrar o tipo de dado.\n",
    "print(f\"Tamanho de cada dado: {a.itemsize}\") # determinar o tamanho, em bytes, de cada elemento no array.\n",
    "print(f\"Tamanho total dos dados: {a.nbytes}\") # calcular o tamanho total em bytes de um array."
   ]
  },
  {
   "cell_type": "markdown",
   "id": "94d33a45-cd6b-48f5-81d7-db2c411d7717",
   "metadata": {},
   "source": [
    "<div style=\"text-align:center\">\n",
    "    <h3>🎲 Tipos de dados e tamanho ocupados na memória</h3>\n",
    "    <img src=\"Datas/dtype.png\" width=\"400rem\" />\n",
    "</div>"
   ]
  },
  {
   "cell_type": "markdown",
   "id": "6ea3560f-180c-42fd-9afe-ef211a4a45bd",
   "metadata": {},
   "source": [
    "#### 💎 Inicializando tipos diferentes de matrizes:\n",
    "\n",
    "> 👉 As funções np.zeros() e np.ones() são usadas para criar arrays preenchidos com zeros e uns, respectivamente.\n",
    "> \n",
    "> 👉 A função np.full() é usada para criar um array preenchido com um valor específico em todas as suas posições.\n",
    ">\n",
    "> 👉 A função fill_value() cria um novo array com a mesma forma do array de entrada, mas preenchido com um valor específice"
   ]
  },
  {
   "cell_type": "code",
   "execution_count": 9,
   "id": "221b058e-7807-402a-9e4f-bd162e8d9789",
   "metadata": {},
   "outputs": [
    {
     "data": {
      "text/plain": [
       "array([0., 0., 0.])"
      ]
     },
     "execution_count": 9,
     "metadata": {},
     "output_type": "execute_result"
    }
   ],
   "source": [
    "np.zeros(3) # matriz de uma dimensão "
   ]
  },
  {
   "cell_type": "code",
   "execution_count": 10,
   "id": "41238263-d3a7-4fdb-90ef-93bbdecc28fc",
   "metadata": {},
   "outputs": [
    {
     "data": {
      "text/plain": [
       "array([[0, 0],\n",
       "       [0, 0],\n",
       "       [0, 0]])"
      ]
     },
     "execution_count": 10,
     "metadata": {},
     "output_type": "execute_result"
    }
   ],
   "source": [
    "np.zeros([3, 2], dtype=np.int32) # matriz de duas dimensão, 3 linhas e 2 colunas."
   ]
  },
  {
   "cell_type": "code",
   "execution_count": 11,
   "id": "7fa27821-40ee-47bf-9ee7-27ebeca0f743",
   "metadata": {},
   "outputs": [
    {
     "data": {
      "text/plain": [
       "array([[[1., 1.],\n",
       "        [1., 1.],\n",
       "        [1., 1.]],\n",
       "\n",
       "       [[1., 1.],\n",
       "        [1., 1.],\n",
       "        [1., 1.]]])"
      ]
     },
     "execution_count": 11,
     "metadata": {},
     "output_type": "execute_result"
    }
   ],
   "source": [
    "np.ones([2, 3, 2]) # 2 matrizes de duas dimensão, cada uma com 3 linhas e 2 colunas."
   ]
  },
  {
   "cell_type": "code",
   "execution_count": 12,
   "id": "9aa80cd1-c9a2-4e1b-997b-4d4237ac1922",
   "metadata": {},
   "outputs": [
    {
     "data": {
      "text/plain": [
       "array([[21, 21, 21, 21],\n",
       "       [21, 21, 21, 21],\n",
       "       [21, 21, 21, 21]])"
      ]
     },
     "execution_count": 12,
     "metadata": {},
     "output_type": "execute_result"
    }
   ],
   "source": [
    "np.full([3, 4], 21)"
   ]
  },
  {
   "cell_type": "code",
   "execution_count": 13,
   "id": "7b03f48c-0af8-4088-a804-7d062278ed62",
   "metadata": {},
   "outputs": [
    {
     "data": {
      "text/plain": [
       "array([[8, 8],\n",
       "       [8, 8]])"
      ]
     },
     "execution_count": 13,
     "metadata": {},
     "output_type": "execute_result"
    }
   ],
   "source": [
    "array = np.array([[2,3], [4,6]])\n",
    "np.full_like(array, 8) # reutilzia a forma da matriz passada no primeiro aprametro pelo valor do segundo parametro."
   ]
  },
  {
   "cell_type": "markdown",
   "id": "c51a1856-fbfd-4eb0-8f33-4399b59c6a47",
   "metadata": {},
   "source": [
    "<div style=\"text-align:center\">\n",
    "    <h3>🎲 Outros metodos semelhantes que podem ser úteis</h3>\n",
    "    <img src=\"Datas/func1.png\" width=\"400rem\" />\n",
    "</div>"
   ]
  },
  {
   "cell_type": "markdown",
   "id": "01e48149-25cc-4713-aee6-41c2e93b4efd",
   "metadata": {},
   "source": [
    "#### 💎 Trabalhando com a geração de números pseudoaleatórios:"
   ]
  },
  {
   "cell_type": "code",
   "execution_count": 14,
   "id": "ca370b09-e0f6-4e00-bb22-8979bbe2f93a",
   "metadata": {},
   "outputs": [
    {
     "data": {
      "text/plain": [
       "array([[0.5872672 , 0.74831879, 0.02635448],\n",
       "       [0.37446373, 0.08156679, 0.47092088],\n",
       "       [0.19935994, 0.44669329, 0.01493404]])"
      ]
     },
     "execution_count": 14,
     "metadata": {},
     "output_type": "execute_result"
    }
   ],
   "source": [
    "np.random.rand(3,3 ) # numeros aleatorios de 0 a 1 "
   ]
  },
  {
   "cell_type": "code",
   "execution_count": 15,
   "id": "ba1c10ca-dace-4fb3-b320-e1718f925bd0",
   "metadata": {},
   "outputs": [
    {
     "data": {
      "text/plain": [
       "array([[ 0.6720898 ,  0.94741531, -1.64552287],\n",
       "       [-0.31920545,  0.4647081 ,  0.8928589 ],\n",
       "       [-1.74035669,  0.1503811 ,  1.91200738]])"
      ]
     },
     "execution_count": 15,
     "metadata": {},
     "output_type": "execute_result"
    }
   ],
   "source": [
    "np.random.randn(3, 3) # numeros aleatorios com distribuição normal"
   ]
  },
  {
   "cell_type": "code",
   "execution_count": 16,
   "id": "c2920aaa-c728-4c6d-b7c0-050bc84f5f34",
   "metadata": {},
   "outputs": [
    {
     "data": {
      "text/plain": [
       "array([[8.76583113, 7.96580042, 5.21874933, 5.7385213 ],\n",
       "       [8.65255384, 7.1708415 , 4.38120385, 5.65658982]])"
      ]
     },
     "execution_count": 16,
     "metadata": {},
     "output_type": "execute_result"
    }
   ],
   "source": [
    "np.random.randint(1, 67, size=None) # numeros aleatorios dentro desse intervalo\n",
    "np.random.uniform(4, 9, size=[2,4]) # numeros aleatorios com shape personalizado"
   ]
  },
  {
   "cell_type": "code",
   "execution_count": 17,
   "id": "b80923f5-5325-49a2-97c1-9fbcea5382d0",
   "metadata": {},
   "outputs": [
    {
     "data": {
      "text/plain": [
       "4.305981524685489"
      ]
     },
     "execution_count": 17,
     "metadata": {},
     "output_type": "execute_result"
    }
   ],
   "source": [
    "np.random.normal(loc=5, scale=1) # número aleatório com média 5 e desvio padrão 2"
   ]
  },
  {
   "cell_type": "code",
   "execution_count": 18,
   "id": "b6a8caa3-0748-4ffb-b345-8e37e174ae48",
   "metadata": {},
   "outputs": [
    {
     "data": {
      "text/plain": [
       "array([6, 3, 4, 5, 2, 7, 1])"
      ]
     },
     "execution_count": 18,
     "metadata": {},
     "output_type": "execute_result"
    }
   ],
   "source": [
    "myarray = np.array([1,2,3,4,5,6,7])\n",
    "np.random.shuffle(myarray) # embaralhou o array original, logo mostre o array original.\n",
    "myarray"
   ]
  },
  {
   "cell_type": "markdown",
   "id": "ce183bbc-c0e6-4e50-b824-8980a9cc72e9",
   "metadata": {},
   "source": [
    "#### 💎 [CURIOSIDADE] Gerando um DataFrame com numeros aleatorios:"
   ]
  },
  {
   "cell_type": "code",
   "execution_count": 19,
   "id": "738841eb-8c94-4e9c-96b0-4134f2ed82e2",
   "metadata": {},
   "outputs": [],
   "source": [
    "import pandas as pd"
   ]
  },
  {
   "cell_type": "code",
   "execution_count": 20,
   "id": "b4278528-45b5-45d9-971d-b5526eb0dcf4",
   "metadata": {},
   "outputs": [],
   "source": [
    "shape = [5, 5] # formato da Array\n",
    "data = np.random.uniform(3, 40, size=shape)\n",
    "\n",
    "df = pd.DataFrame(data, columns=[f'Coluna {x}' for x in range(5)])\n",
    "\n",
    "df = df.astype(int)"
   ]
  },
  {
   "cell_type": "code",
   "execution_count": 21,
   "id": "d655211a-d7ba-4b01-a959-5eae887827be",
   "metadata": {},
   "outputs": [
    {
     "data": {
      "text/html": [
       "<div>\n",
       "<style scoped>\n",
       "    .dataframe tbody tr th:only-of-type {\n",
       "        vertical-align: middle;\n",
       "    }\n",
       "\n",
       "    .dataframe tbody tr th {\n",
       "        vertical-align: top;\n",
       "    }\n",
       "\n",
       "    .dataframe thead th {\n",
       "        text-align: right;\n",
       "    }\n",
       "</style>\n",
       "<table border=\"1\" class=\"dataframe\">\n",
       "  <thead>\n",
       "    <tr style=\"text-align: right;\">\n",
       "      <th></th>\n",
       "      <th>Coluna 0</th>\n",
       "      <th>Coluna 1</th>\n",
       "      <th>Coluna 2</th>\n",
       "      <th>Coluna 3</th>\n",
       "      <th>Coluna 4</th>\n",
       "    </tr>\n",
       "  </thead>\n",
       "  <tbody>\n",
       "    <tr>\n",
       "      <th>0</th>\n",
       "      <td>6</td>\n",
       "      <td>12</td>\n",
       "      <td>39</td>\n",
       "      <td>15</td>\n",
       "      <td>18</td>\n",
       "    </tr>\n",
       "    <tr>\n",
       "      <th>1</th>\n",
       "      <td>33</td>\n",
       "      <td>26</td>\n",
       "      <td>33</td>\n",
       "      <td>18</td>\n",
       "      <td>22</td>\n",
       "    </tr>\n",
       "    <tr>\n",
       "      <th>2</th>\n",
       "      <td>22</td>\n",
       "      <td>11</td>\n",
       "      <td>23</td>\n",
       "      <td>8</td>\n",
       "      <td>20</td>\n",
       "    </tr>\n",
       "    <tr>\n",
       "      <th>3</th>\n",
       "      <td>35</td>\n",
       "      <td>3</td>\n",
       "      <td>15</td>\n",
       "      <td>28</td>\n",
       "      <td>35</td>\n",
       "    </tr>\n",
       "    <tr>\n",
       "      <th>4</th>\n",
       "      <td>21</td>\n",
       "      <td>31</td>\n",
       "      <td>12</td>\n",
       "      <td>24</td>\n",
       "      <td>26</td>\n",
       "    </tr>\n",
       "  </tbody>\n",
       "</table>\n",
       "</div>"
      ],
      "text/plain": [
       "   Coluna 0  Coluna 1  Coluna 2  Coluna 3  Coluna 4\n",
       "0         6        12        39        15        18\n",
       "1        33        26        33        18        22\n",
       "2        22        11        23         8        20\n",
       "3        35         3        15        28        35\n",
       "4        21        31        12        24        26"
      ]
     },
     "execution_count": 21,
     "metadata": {},
     "output_type": "execute_result"
    }
   ],
   "source": [
    "df"
   ]
  },
  {
   "cell_type": "markdown",
   "id": "9e25412b-64a3-4de3-b746-3c4ef6b38902",
   "metadata": {},
   "source": [
    "#### 💎 Operações de Algebra:\n",
    "\n",
    "> 👉 identity() usada para criar uma matriz identidade quadrada. Uma matriz identidade é uma matriz quadrada na qual todos os elementos da diagonal principal são iguais a 1 e todos os outros elementos são iguais a 0.\n",
    ">\n",
    "> 👉 array.repeat() é usado para repetir elementos de um array ao longo de um ou mais eixos."
   ]
  },
  {
   "cell_type": "code",
   "execution_count": 22,
   "id": "3c87d83f-dd10-4b62-a083-bbbbc923d884",
   "metadata": {},
   "outputs": [
    {
     "data": {
      "text/plain": [
       "array([[1., 0., 0.],\n",
       "       [0., 1., 0.],\n",
       "       [0., 0., 1.]])"
      ]
     },
     "execution_count": 22,
     "metadata": {},
     "output_type": "execute_result"
    }
   ],
   "source": [
    "np.identity(3)"
   ]
  },
  {
   "cell_type": "code",
   "execution_count": 23,
   "id": "87146319-24bc-43e7-9f5b-960e1d7bdeff",
   "metadata": {},
   "outputs": [
    {
     "data": {
      "text/plain": [
       "array([[1, 1, 2, 2, 3, 3],\n",
       "       [3, 3, 4, 4, 5, 5]])"
      ]
     },
     "execution_count": 23,
     "metadata": {},
     "output_type": "execute_result"
    }
   ],
   "source": [
    "array = np.array([[1, 2, 3], [3, 4, 5]])\n",
    "array.repeat(2, axis=1)"
   ]
  },
  {
   "cell_type": "markdown",
   "id": "041e2a05-d6f7-4f6d-8011-87628fb40824",
   "metadata": {},
   "source": [
    "#### 💎 Method COPY:"
   ]
  },
  {
   "cell_type": "code",
   "execution_count": 24,
   "id": "9e51cbdc-e0cb-4a0c-a83c-e97ecaf20353",
   "metadata": {},
   "outputs": [
    {
     "data": {
      "text/plain": [
       "array([10,  2,  3])"
      ]
     },
     "execution_count": 24,
     "metadata": {},
     "output_type": "execute_result"
    }
   ],
   "source": [
    "# Modo ERRADO!!!\n",
    "# Explicação: cópia dependente de a, variável 'b' faz referência à mesma localização de memória que 'a'.\n",
    "\n",
    "a = np.array([1,2,3])\n",
    "b = a\n",
    "b[0] = 10\n",
    "b"
   ]
  },
  {
   "cell_type": "code",
   "execution_count": 25,
   "id": "5aed9bb0-a3a3-489f-8798-4c2b2187abaa",
   "metadata": {},
   "outputs": [
    {
     "data": {
      "text/plain": [
       "array([4, 2, 3])"
      ]
     },
     "execution_count": 25,
     "metadata": {},
     "output_type": "execute_result"
    }
   ],
   "source": [
    "# Modo CORRETO!!!\n",
    "# Explicação: Cria uma cópia independente.\n",
    "\n",
    "b = a.copy()\n",
    "b[0] = 4\n",
    "b"
   ]
  },
  {
   "cell_type": "markdown",
   "id": "007ba439-3899-44e4-bb2d-93d9c1ff4ac5",
   "metadata": {},
   "source": [
    "#### 💎 Element-wise Operations:\n",
    "\n",
    "> realização de operações matemáticas em elementos correspondentes de arrays ou vetores."
   ]
  },
  {
   "cell_type": "code",
   "execution_count": 26,
   "id": "1f916d1e-ce94-4df3-b10d-60bc8240a223",
   "metadata": {},
   "outputs": [],
   "source": [
    "lista = [1, 2, 6]\n",
    "# lista + 2 <- Isso vai dar erro! Ok..."
   ]
  },
  {
   "cell_type": "code",
   "execution_count": 27,
   "id": "d974d641-2cde-4eb2-8fc1-302536d63664",
   "metadata": {},
   "outputs": [],
   "source": [
    "numbers1 = np.array([1, 3, 2])\n",
    "numbers2 = np.array([1, 4, 5])"
   ]
  },
  {
   "cell_type": "code",
   "execution_count": 28,
   "id": "6ddd535c-d92d-4474-883e-9222a025967f",
   "metadata": {},
   "outputs": [
    {
     "name": "stdout",
     "output_type": "stream",
     "text": [
      "[2 7 7]\n",
      "[ 0 -1 -3]\n",
      "[ 1 12 10]\n",
      "[1.   0.75 0.4 ]\n"
     ]
    }
   ],
   "source": [
    "# Isso vai dar certo... \n",
    "\n",
    "print(numbers1 + numbers2)\n",
    "print(numbers1 - numbers2)\n",
    "print(numbers1 * numbers2)\n",
    "print(numbers1 / numbers2)"
   ]
  },
  {
   "cell_type": "code",
   "execution_count": 29,
   "id": "a5c5eef6-05ca-4cb1-91eb-7f1838bfeba7",
   "metadata": {},
   "outputs": [
    {
     "data": {
      "text/plain": [
       "array([5, 7, 6])"
      ]
     },
     "execution_count": 29,
     "metadata": {},
     "output_type": "execute_result"
    }
   ],
   "source": [
    "# Atribuições: \n",
    "\n",
    "numbers1 += 4\n",
    "numbers1"
   ]
  },
  {
   "cell_type": "code",
   "execution_count": 30,
   "id": "363b1a48-0038-483e-80c5-5bc21ceff755",
   "metadata": {},
   "outputs": [],
   "source": [
    "a = np.array([1, -3, 2])\n",
    "b = np.array([1, 4, -5])"
   ]
  },
  {
   "cell_type": "code",
   "execution_count": 31,
   "id": "8cd55bf6-0adc-4bc3-af5c-932b7c073135",
   "metadata": {},
   "outputs": [
    {
     "data": {
      "text/plain": [
       "array([ 0, -7,  7])"
      ]
     },
     "execution_count": 31,
     "metadata": {},
     "output_type": "execute_result"
    }
   ],
   "source": [
    "a - b"
   ]
  },
  {
   "cell_type": "markdown",
   "id": "61c647f0-268a-4776-8386-403e3a9b419f",
   "metadata": {},
   "source": [
    "#### 💎 Reshape:\n",
    "\n",
    "> A função numpy.reshape é usada para alterar a forma (dimensões) de um array, mantendo os dados no array inalterados."
   ]
  },
  {
   "cell_type": "code",
   "execution_count": 32,
   "id": "d9b0ca65-52d9-4adf-b72c-2d22db178184",
   "metadata": {},
   "outputs": [
    {
     "data": {
      "text/plain": [
       "array([[1, 1, 6],\n",
       "       [3, 5, 6]])"
      ]
     },
     "execution_count": 32,
     "metadata": {},
     "output_type": "execute_result"
    }
   ],
   "source": [
    "array = np.array([[1, 1, 6], [3, 5, 6]])\n",
    "array"
   ]
  },
  {
   "cell_type": "code",
   "execution_count": 33,
   "id": "bd5f8edc-df56-492b-9f91-ca032362b235",
   "metadata": {},
   "outputs": [
    {
     "data": {
      "text/plain": [
       "array([[1, 1],\n",
       "       [6, 3],\n",
       "       [5, 6]])"
      ]
     },
     "execution_count": 33,
     "metadata": {},
     "output_type": "execute_result"
    }
   ],
   "source": [
    "array.reshape([3,2])"
   ]
  },
  {
   "cell_type": "markdown",
   "id": "2807892b-b2a8-491a-9201-504827c6027d",
   "metadata": {},
   "source": [
    "#### 💎 Stacks:\n",
    "\n",
    "> São funções que permitem empilhar (concatenar) arrays verticalmente (ao longo do eixo das linhas) e horizontalmente (ao longo do eixo das colunas)"
   ]
  },
  {
   "cell_type": "code",
   "execution_count": 51,
   "id": "6e159dd1-ef08-45c1-81ae-33984a81e4d5",
   "metadata": {},
   "outputs": [],
   "source": [
    "a1 = np.array([2, 5, 7])\n",
    "a2 = np.array([4, 6, 2])"
   ]
  },
  {
   "cell_type": "code",
   "execution_count": 52,
   "id": "711e41c4-3e33-4af2-8ddb-5dc3efd6fdef",
   "metadata": {},
   "outputs": [
    {
     "data": {
      "text/plain": [
       "array([[2, 5, 7],\n",
       "       [4, 6, 2],\n",
       "       [4, 3, 2]])"
      ]
     },
     "execution_count": 52,
     "metadata": {},
     "output_type": "execute_result"
    }
   ],
   "source": [
    "np.vstack([a1, a2, [4, 3, 2]]) # Pilha Vertical"
   ]
  },
  {
   "cell_type": "code",
   "execution_count": 53,
   "id": "6d437c69-1630-4f33-bc14-bc2fcdb023ee",
   "metadata": {},
   "outputs": [
    {
     "data": {
      "text/plain": [
       "array([2, 5, 7, 3, 5, 1, 2, 5, 7])"
      ]
     },
     "execution_count": 53,
     "metadata": {},
     "output_type": "execute_result"
    }
   ],
   "source": [
    "np.hstack([a1, [3, 5, 1], a1]) # Pilha Horizontal"
   ]
  },
  {
   "cell_type": "markdown",
   "id": "3d2f8659-b0ce-46f0-9a1d-fdd083837632",
   "metadata": {},
   "source": [
    "#### 💎 Mudança de tipo de dado:\n",
    "\n",
    "> dtype é um atributo dos objetos NumPy que especifica o tipo de dados dos elementos no array.\n",
    ">\n",
    "> astype() é um método disponível em objetos NumPy que permite converter o tipo de dados de um array existente"
   ]
  },
  {
   "cell_type": "code",
   "execution_count": 54,
   "id": "acc5494e-9db7-408b-919d-8489b25df832",
   "metadata": {},
   "outputs": [
    {
     "data": {
      "text/plain": [
       "dtype('int32')"
      ]
     },
     "execution_count": 54,
     "metadata": {},
     "output_type": "execute_result"
    }
   ],
   "source": [
    "# Antes:\n",
    "\n",
    "a2.dtype # Verificando o tipo de dado atual"
   ]
  },
  {
   "cell_type": "code",
   "execution_count": 55,
   "id": "d06c144c-da22-4bca-88ba-9bc3ac537d4e",
   "metadata": {},
   "outputs": [
    {
     "data": {
      "text/plain": [
       "array([4., 6., 2.], dtype=float32)"
      ]
     },
     "execution_count": 55,
     "metadata": {},
     "output_type": "execute_result"
    }
   ],
   "source": [
    "# Depois:\n",
    "\n",
    "a2Float = a2.astype('float32') # Alterando o tipo de dado\n",
    "a2Float"
   ]
  },
  {
   "cell_type": "markdown",
   "id": "e0216b03-2092-426c-a90a-de0b8a4dc482",
   "metadata": {},
   "source": [
    "#### 💎 CONDICIONAIS //  MASCARAS BOOLEANAS:\n",
    "> axis=0 (COLUNA) | axis=1 (LINHA)"
   ]
  },
  {
   "cell_type": "code",
   "execution_count": 114,
   "id": "e2ae5477-7514-4ebb-bacf-0b3f9415fbf9",
   "metadata": {},
   "outputs": [
    {
     "data": {
      "text/plain": [
       "array([[49, 76, 27, 58, 53],\n",
       "       [31, 63, 92, 23, 72],\n",
       "       [99, 64, 36, 23, 36],\n",
       "       [93, 25, 29, 94, 63],\n",
       "       [41, 25, 34, 62, 25]])"
      ]
     },
     "execution_count": 114,
     "metadata": {},
     "output_type": "execute_result"
    }
   ],
   "source": [
    "array = np.random.randint(10, 100, size=[5,5])\n",
    "array"
   ]
  },
  {
   "cell_type": "code",
   "execution_count": 115,
   "id": "ba2d5471-d089-4530-b6d2-82112948221d",
   "metadata": {},
   "outputs": [
    {
     "data": {
      "text/plain": [
       "array([92, 99, 93, 94])"
      ]
     },
     "execution_count": 115,
     "metadata": {},
     "output_type": "execute_result"
    }
   ],
   "source": [
    "array[array > 90] # retorna um novo array contendo apenas os elementos do array original"
   ]
  },
  {
   "cell_type": "code",
   "execution_count": 116,
   "id": "817a5c99-70d4-45e2-a11a-96b3331ecb80",
   "metadata": {},
   "outputs": [
    {
     "data": {
      "text/plain": [
       "True"
      ]
     },
     "execution_count": 116,
     "metadata": {},
     "output_type": "execute_result"
    }
   ],
   "source": [
    "np.any(array > 59) # verificar se pelo menos um elemento em um array satisfaz uma determinada condição."
   ]
  },
  {
   "cell_type": "code",
   "execution_count": 117,
   "id": "24727a52-6b0a-4ac9-a1fe-7db2b22a5c28",
   "metadata": {},
   "outputs": [
    {
     "data": {
      "text/plain": [
       "array([False, False, False, False, False])"
      ]
     },
     "execution_count": 117,
     "metadata": {},
     "output_type": "execute_result"
    }
   ],
   "source": [
    "np.any(array < 20, axis=0) # Verifica se há pelo menos um valor [que esta de acordo com a condicional] em cada coluna."
   ]
  },
  {
   "cell_type": "code",
   "execution_count": 118,
   "id": "05f86cd0-7336-4e89-a81d-1bf7b997bd41",
   "metadata": {},
   "outputs": [
    {
     "data": {
      "text/plain": [
       "array([False, False, False, False, False])"
      ]
     },
     "execution_count": 118,
     "metadata": {},
     "output_type": "execute_result"
    }
   ],
   "source": [
    "np.any(array < 20, axis=1) # Verifica se há pelo menos um valor [que esta de acordo com a condicional] em cada coluna."
   ]
  },
  {
   "cell_type": "code",
   "execution_count": 129,
   "id": "8e5e24af-9941-4883-993f-0594d4d0c473",
   "metadata": {},
   "outputs": [
    {
     "data": {
      "text/plain": [
       "True"
      ]
     },
     "execution_count": 129,
     "metadata": {},
     "output_type": "execute_result"
    }
   ],
   "source": [
    "np.all(array > 1) # verifica se todos os elementos de um array satisfazem uma determinada condição"
   ]
  },
  {
   "cell_type": "code",
   "execution_count": 134,
   "id": "a67419e8-f778-4eb9-9bee-a114d89530ea",
   "metadata": {},
   "outputs": [
    {
     "data": {
      "text/plain": [
       "array([False,  True, False, False,  True])"
      ]
     },
     "execution_count": 134,
     "metadata": {},
     "output_type": "execute_result"
    }
   ],
   "source": [
    "mask = ((array > 24) & (array < 90))\n",
    "np.all(mask, axis=0)"
   ]
  },
  {
   "cell_type": "code",
   "execution_count": 159,
   "id": "9351f57b-a86c-4df7-a45a-dfae5e2ac2b0",
   "metadata": {},
   "outputs": [
    {
     "data": {
      "text/plain": [
       "array([False,  True,  True,  True,  True])"
      ]
     },
     "execution_count": 159,
     "metadata": {},
     "output_type": "execute_result"
    }
   ],
   "source": [
    "# Traga pra mim se tem valores que NAO estão dentro dessa intervalo nas coluna \n",
    "\n",
    "# True se tem valores fora do intervalo\n",
    "# True se não tem valores fora do intervalo\n",
    "\n",
    "mask = ~((array > 30) & (array < 100)) \n",
    "np.any(mask, axis=0)"
   ]
  },
  {
   "cell_type": "code",
   "execution_count": 161,
   "id": "c3cbc2a2-feb4-466c-9f2a-15374a05bab0",
   "metadata": {},
   "outputs": [
    {
     "data": {
      "text/plain": [
       "array([[ True,  True,  True,  True,  True],\n",
       "       [ True,  True, False,  True,  True],\n",
       "       [False,  True,  True,  True,  True],\n",
       "       [False,  True,  True, False,  True],\n",
       "       [ True,  True,  True,  True,  True]])"
      ]
     },
     "execution_count": 161,
     "metadata": {},
     "output_type": "execute_result"
    }
   ],
   "source": [
    "# Traga pra mim os valores que NAO estao dentro dessa condição\n",
    "\n",
    "# True para se não está\n",
    "# False para se está\n",
    "\n",
    "~((array > 90) & (array < 100))"
   ]
  },
  {
   "cell_type": "code",
   "execution_count": null,
   "id": "c14d1ed9-c820-4978-b3a8-4021e04436fc",
   "metadata": {},
   "outputs": [],
   "source": []
  },
  {
   "cell_type": "code",
   "execution_count": null,
   "id": "6f3b3496-0229-4acb-930f-0a7bd540c88b",
   "metadata": {},
   "outputs": [],
   "source": []
  }
 ],
 "metadata": {
  "kernelspec": {
   "display_name": "Python 3 (ipykernel)",
   "language": "python",
   "name": "python3"
  },
  "language_info": {
   "codemirror_mode": {
    "name": "ipython",
    "version": 3
   },
   "file_extension": ".py",
   "mimetype": "text/x-python",
   "name": "python",
   "nbconvert_exporter": "python",
   "pygments_lexer": "ipython3",
   "version": "3.12.0"
  }
 },
 "nbformat": 4,
 "nbformat_minor": 5
}
